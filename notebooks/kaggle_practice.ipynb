{
 "cells": [
  {
   "cell_type": "code",
   "execution_count": 5,
   "metadata": {},
   "outputs": [],
   "source": [
    "import pandas as pd\n",
    "import numpy as np"
   ]
  },
  {
   "cell_type": "code",
   "execution_count": 6,
   "metadata": {},
   "outputs": [],
   "source": [
    "recipes = pd.read_csv(\"../data/archive/RAW_recipes.csv\")\n",
    "interactions = pd.read_csv(\"../data/archive/RAW_interactions.csv\")"
   ]
  },
  {
   "cell_type": "code",
   "execution_count": 7,
   "metadata": {},
   "outputs": [
    {
     "data": {
      "text/html": [
       "<div>\n",
       "<style scoped>\n",
       "    .dataframe tbody tr th:only-of-type {\n",
       "        vertical-align: middle;\n",
       "    }\n",
       "\n",
       "    .dataframe tbody tr th {\n",
       "        vertical-align: top;\n",
       "    }\n",
       "\n",
       "    .dataframe thead th {\n",
       "        text-align: right;\n",
       "    }\n",
       "</style>\n",
       "<table border=\"1\" class=\"dataframe\">\n",
       "  <thead>\n",
       "    <tr style=\"text-align: right;\">\n",
       "      <th></th>\n",
       "      <th>user_id</th>\n",
       "      <th>recipe_id</th>\n",
       "      <th>date</th>\n",
       "      <th>rating</th>\n",
       "      <th>review</th>\n",
       "      <th>count</th>\n",
       "    </tr>\n",
       "  </thead>\n",
       "  <tbody>\n",
       "    <tr>\n",
       "      <th>0</th>\n",
       "      <td>38094</td>\n",
       "      <td>40893</td>\n",
       "      <td>2003-02-17</td>\n",
       "      <td>4</td>\n",
       "      <td>Great with a salad. Cooked on top of stove for...</td>\n",
       "      <td>1</td>\n",
       "    </tr>\n",
       "    <tr>\n",
       "      <th>1</th>\n",
       "      <td>1293707</td>\n",
       "      <td>40893</td>\n",
       "      <td>2011-12-21</td>\n",
       "      <td>5</td>\n",
       "      <td>So simple, so delicious! Great for chilly fall...</td>\n",
       "      <td>1</td>\n",
       "    </tr>\n",
       "    <tr>\n",
       "      <th>2</th>\n",
       "      <td>8937</td>\n",
       "      <td>44394</td>\n",
       "      <td>2002-12-01</td>\n",
       "      <td>4</td>\n",
       "      <td>This worked very well and is EASY.  I used not...</td>\n",
       "      <td>1</td>\n",
       "    </tr>\n",
       "    <tr>\n",
       "      <th>3</th>\n",
       "      <td>126440</td>\n",
       "      <td>85009</td>\n",
       "      <td>2010-02-27</td>\n",
       "      <td>5</td>\n",
       "      <td>I made the Mexican topping and took it to bunk...</td>\n",
       "      <td>1</td>\n",
       "    </tr>\n",
       "    <tr>\n",
       "      <th>4</th>\n",
       "      <td>57222</td>\n",
       "      <td>85009</td>\n",
       "      <td>2011-10-01</td>\n",
       "      <td>5</td>\n",
       "      <td>Made the cheddar bacon topping, adding a sprin...</td>\n",
       "      <td>1</td>\n",
       "    </tr>\n",
       "  </tbody>\n",
       "</table>\n",
       "</div>"
      ],
      "text/plain": [
       "   user_id  recipe_id        date  rating  \\\n",
       "0    38094      40893  2003-02-17       4   \n",
       "1  1293707      40893  2011-12-21       5   \n",
       "2     8937      44394  2002-12-01       4   \n",
       "3   126440      85009  2010-02-27       5   \n",
       "4    57222      85009  2011-10-01       5   \n",
       "\n",
       "                                              review  count  \n",
       "0  Great with a salad. Cooked on top of stove for...      1  \n",
       "1  So simple, so delicious! Great for chilly fall...      1  \n",
       "2  This worked very well and is EASY.  I used not...      1  \n",
       "3  I made the Mexican topping and took it to bunk...      1  \n",
       "4  Made the cheddar bacon topping, adding a sprin...      1  "
      ]
     },
     "execution_count": 7,
     "metadata": {},
     "output_type": "execute_result"
    }
   ],
   "source": [
    "interactions[\"count\"] = 1\n",
    "interactions.head()"
   ]
  },
  {
   "cell_type": "markdown",
   "metadata": {},
   "source": [
    "### Top 200 recipe ids by rating count"
   ]
  },
  {
   "cell_type": "code",
   "execution_count": 8,
   "metadata": {},
   "outputs": [],
   "source": [
    "top_200_recipes = interactions.groupby(\"recipe_id\")[\"count\"].sum().sort_values(ascending=False).to_frame()[:200]\n",
    "top_200_recipe_ids = top_200_recipes.index.to_list()"
   ]
  },
  {
   "cell_type": "markdown",
   "metadata": {},
   "source": [
    "### Top 75 user ids by rating count"
   ]
  },
  {
   "cell_type": "code",
   "execution_count": 9,
   "metadata": {},
   "outputs": [],
   "source": [
    "top_75_users = interactions.groupby(\"user_id\")[\"count\"].sum().sort_values(ascending=False).to_frame()[:75]\n",
    "top_75_users_ids = top_75_users.index.to_list()"
   ]
  },
  {
   "cell_type": "markdown",
   "metadata": {},
   "source": [
    "### Interactions with top users and top recipes"
   ]
  },
  {
   "cell_type": "code",
   "execution_count": 10,
   "metadata": {},
   "outputs": [],
   "source": [
    "top_200_recipes_top_75_users = interactions[interactions[\"user_id\"].isin(top_75_users_ids) & interactions[\"recipe_id\"].isin(top_200_recipe_ids)]"
   ]
  },
  {
   "cell_type": "code",
   "execution_count": 11,
   "metadata": {},
   "outputs": [
    {
     "data": {
      "text/html": [
       "<div>\n",
       "<style scoped>\n",
       "    .dataframe tbody tr th:only-of-type {\n",
       "        vertical-align: middle;\n",
       "    }\n",
       "\n",
       "    .dataframe tbody tr th {\n",
       "        vertical-align: top;\n",
       "    }\n",
       "\n",
       "    .dataframe thead th {\n",
       "        text-align: right;\n",
       "    }\n",
       "</style>\n",
       "<table border=\"1\" class=\"dataframe\">\n",
       "  <thead>\n",
       "    <tr style=\"text-align: right;\">\n",
       "      <th></th>\n",
       "      <th>user_id</th>\n",
       "      <th>recipe_id</th>\n",
       "      <th>date</th>\n",
       "      <th>rating</th>\n",
       "      <th>review</th>\n",
       "      <th>count</th>\n",
       "    </tr>\n",
       "  </thead>\n",
       "  <tbody>\n",
       "    <tr>\n",
       "      <th>6054</th>\n",
       "      <td>5060</td>\n",
       "      <td>30081</td>\n",
       "      <td>2005-03-18</td>\n",
       "      <td>2</td>\n",
       "      <td>Well I'm really sorry but we found these absol...</td>\n",
       "      <td>1</td>\n",
       "    </tr>\n",
       "    <tr>\n",
       "      <th>6056</th>\n",
       "      <td>39835</td>\n",
       "      <td>30081</td>\n",
       "      <td>2005-08-26</td>\n",
       "      <td>3</td>\n",
       "      <td>These were good for sandwich night, but I foun...</td>\n",
       "      <td>1</td>\n",
       "    </tr>\n",
       "    <tr>\n",
       "      <th>6064</th>\n",
       "      <td>158086</td>\n",
       "      <td>30081</td>\n",
       "      <td>2006-08-23</td>\n",
       "      <td>5</td>\n",
       "      <td>This was very easy and tasted wonderful...my b...</td>\n",
       "      <td>1</td>\n",
       "    </tr>\n",
       "    <tr>\n",
       "      <th>6069</th>\n",
       "      <td>53932</td>\n",
       "      <td>30081</td>\n",
       "      <td>2006-09-08</td>\n",
       "      <td>4</td>\n",
       "      <td>I used ground turkey and thought the spices we...</td>\n",
       "      <td>1</td>\n",
       "    </tr>\n",
       "    <tr>\n",
       "      <th>6137</th>\n",
       "      <td>176615</td>\n",
       "      <td>30081</td>\n",
       "      <td>2008-06-06</td>\n",
       "      <td>5</td>\n",
       "      <td>Great recipe! Superfast and easy, the whole fa...</td>\n",
       "      <td>1</td>\n",
       "    </tr>\n",
       "    <tr>\n",
       "      <th>...</th>\n",
       "      <td>...</td>\n",
       "      <td>...</td>\n",
       "      <td>...</td>\n",
       "      <td>...</td>\n",
       "      <td>...</td>\n",
       "      <td>...</td>\n",
       "    </tr>\n",
       "    <tr>\n",
       "      <th>1123448</th>\n",
       "      <td>133174</td>\n",
       "      <td>131018</td>\n",
       "      <td>2013-01-28</td>\n",
       "      <td>5</td>\n",
       "      <td>This is on my menu for game day!  I made this ...</td>\n",
       "      <td>1</td>\n",
       "    </tr>\n",
       "    <tr>\n",
       "      <th>1123461</th>\n",
       "      <td>39835</td>\n",
       "      <td>131018</td>\n",
       "      <td>2013-06-22</td>\n",
       "      <td>5</td>\n",
       "      <td>We loved this - used diet ginger ale but other...</td>\n",
       "      <td>1</td>\n",
       "    </tr>\n",
       "    <tr>\n",
       "      <th>1123494</th>\n",
       "      <td>400708</td>\n",
       "      <td>131018</td>\n",
       "      <td>2014-07-15</td>\n",
       "      <td>5</td>\n",
       "      <td>I&amp;#039;ll just add my 5 stars to this easy rec...</td>\n",
       "      <td>1</td>\n",
       "    </tr>\n",
       "    <tr>\n",
       "      <th>1129713</th>\n",
       "      <td>140132</td>\n",
       "      <td>43072</td>\n",
       "      <td>2008-06-25</td>\n",
       "      <td>4</td>\n",
       "      <td>These were really good.  I had some cottage ch...</td>\n",
       "      <td>1</td>\n",
       "    </tr>\n",
       "    <tr>\n",
       "      <th>1129762</th>\n",
       "      <td>1179225</td>\n",
       "      <td>43072</td>\n",
       "      <td>2010-01-15</td>\n",
       "      <td>5</td>\n",
       "      <td>These were a nice change from the usual pancak...</td>\n",
       "      <td>1</td>\n",
       "    </tr>\n",
       "  </tbody>\n",
       "</table>\n",
       "<p>1659 rows × 6 columns</p>\n",
       "</div>"
      ],
      "text/plain": [
       "         user_id  recipe_id        date  rating  \\\n",
       "6054        5060      30081  2005-03-18       2   \n",
       "6056       39835      30081  2005-08-26       3   \n",
       "6064      158086      30081  2006-08-23       5   \n",
       "6069       53932      30081  2006-09-08       4   \n",
       "6137      176615      30081  2008-06-06       5   \n",
       "...          ...        ...         ...     ...   \n",
       "1123448   133174     131018  2013-01-28       5   \n",
       "1123461    39835     131018  2013-06-22       5   \n",
       "1123494   400708     131018  2014-07-15       5   \n",
       "1129713   140132      43072  2008-06-25       4   \n",
       "1129762  1179225      43072  2010-01-15       5   \n",
       "\n",
       "                                                    review  count  \n",
       "6054     Well I'm really sorry but we found these absol...      1  \n",
       "6056     These were good for sandwich night, but I foun...      1  \n",
       "6064     This was very easy and tasted wonderful...my b...      1  \n",
       "6069     I used ground turkey and thought the spices we...      1  \n",
       "6137     Great recipe! Superfast and easy, the whole fa...      1  \n",
       "...                                                    ...    ...  \n",
       "1123448  This is on my menu for game day!  I made this ...      1  \n",
       "1123461  We loved this - used diet ginger ale but other...      1  \n",
       "1123494  I&#039;ll just add my 5 stars to this easy rec...      1  \n",
       "1129713  These were really good.  I had some cottage ch...      1  \n",
       "1129762  These were a nice change from the usual pancak...      1  \n",
       "\n",
       "[1659 rows x 6 columns]"
      ]
     },
     "execution_count": 11,
     "metadata": {},
     "output_type": "execute_result"
    }
   ],
   "source": [
    "top_200_recipes_top_75_users"
   ]
  },
  {
   "cell_type": "code",
   "execution_count": 12,
   "metadata": {},
   "outputs": [],
   "source": [
    "num_users = top_200_recipes_top_75_users[\"user_id\"].nunique()\n",
    "num_recipes = top_200_recipes_top_75_users[\"recipe_id\"].nunique()\n",
    "num_interactions = len(top_200_recipes_top_75_users)"
   ]
  },
  {
   "cell_type": "code",
   "execution_count": 13,
   "metadata": {},
   "outputs": [
    {
     "name": "stdout",
     "output_type": "stream",
     "text": [
      "Num users: 74, Num recipes: 199, Num final interactions: 1659\n"
     ]
    }
   ],
   "source": [
    "print(f\"Num users: {num_users}, Num recipes: {num_recipes}, Num final interactions: {num_interactions}\")"
   ]
  },
  {
   "cell_type": "code",
   "execution_count": 14,
   "metadata": {},
   "outputs": [
    {
     "name": "stdout",
     "output_type": "stream",
     "text": [
      "The matrix will be 11.27% full\n"
     ]
    }
   ],
   "source": [
    "percent_full = (num_interactions / (num_users * num_recipes)) * 100\n",
    "print(f\"The matrix will be {percent_full:.2f}% full\")"
   ]
  },
  {
   "cell_type": "code",
   "execution_count": 15,
   "metadata": {},
   "outputs": [],
   "source": [
    "final_interactions = top_200_recipes_top_75_users.copy()"
   ]
  },
  {
   "cell_type": "markdown",
   "metadata": {},
   "source": [
    "### Building sparse matrix"
   ]
  },
  {
   "cell_type": "code",
   "execution_count": 16,
   "metadata": {},
   "outputs": [],
   "source": [
    "user_recipe_matrix = top_200_recipes_top_75_users.pivot_table(\n",
    "    index=\"user_id\",\n",
    "    columns=\"recipe_id\",\n",
    "    values=\"rating\"\n",
    ")"
   ]
  },
  {
   "cell_type": "code",
   "execution_count": 17,
   "metadata": {},
   "outputs": [],
   "source": [
    "#user_recipe_matrix"
   ]
  },
  {
   "cell_type": "markdown",
   "metadata": {},
   "source": [
    "#### Check nulls"
   ]
  },
  {
   "cell_type": "code",
   "execution_count": 18,
   "metadata": {},
   "outputs": [
    {
     "data": {
      "text/plain": [
       "(74, 199)"
      ]
     },
     "execution_count": 18,
     "metadata": {},
     "output_type": "execute_result"
    }
   ],
   "source": [
    "user_recipe_matrix.shape"
   ]
  },
  {
   "cell_type": "code",
   "execution_count": 19,
   "metadata": {},
   "outputs": [
    {
     "data": {
      "text/html": [
       "<div>\n",
       "<style scoped>\n",
       "    .dataframe tbody tr th:only-of-type {\n",
       "        vertical-align: middle;\n",
       "    }\n",
       "\n",
       "    .dataframe tbody tr th {\n",
       "        vertical-align: top;\n",
       "    }\n",
       "\n",
       "    .dataframe thead th {\n",
       "        text-align: right;\n",
       "    }\n",
       "</style>\n",
       "<table border=\"1\" class=\"dataframe\">\n",
       "  <thead>\n",
       "    <tr style=\"text-align: right;\">\n",
       "      <th></th>\n",
       "      <th>0</th>\n",
       "    </tr>\n",
       "    <tr>\n",
       "      <th>user_id</th>\n",
       "      <th></th>\n",
       "    </tr>\n",
       "  </thead>\n",
       "  <tbody>\n",
       "    <tr>\n",
       "      <th>58104</th>\n",
       "      <td>196</td>\n",
       "    </tr>\n",
       "    <tr>\n",
       "      <th>107583</th>\n",
       "      <td>197</td>\n",
       "    </tr>\n",
       "    <tr>\n",
       "      <th>163112</th>\n",
       "      <td>197</td>\n",
       "    </tr>\n",
       "    <tr>\n",
       "      <th>169430</th>\n",
       "      <td>197</td>\n",
       "    </tr>\n",
       "    <tr>\n",
       "      <th>573325</th>\n",
       "      <td>198</td>\n",
       "    </tr>\n",
       "  </tbody>\n",
       "</table>\n",
       "</div>"
      ],
      "text/plain": [
       "           0\n",
       "user_id     \n",
       "58104    196\n",
       "107583   197\n",
       "163112   197\n",
       "169430   197\n",
       "573325   198"
      ]
     },
     "execution_count": 19,
     "metadata": {},
     "output_type": "execute_result"
    }
   ],
   "source": [
    "nan_recipe = user_recipe_matrix.isna().sum(axis=1).to_frame()\n",
    "nan_recipe[nan_recipe[0] > 195]"
   ]
  },
  {
   "cell_type": "code",
   "execution_count": 20,
   "metadata": {},
   "outputs": [],
   "source": [
    "#nan_recipe"
   ]
  },
  {
   "cell_type": "code",
   "execution_count": 21,
   "metadata": {},
   "outputs": [
    {
     "data": {
      "text/html": [
       "<div>\n",
       "<style scoped>\n",
       "    .dataframe tbody tr th:only-of-type {\n",
       "        vertical-align: middle;\n",
       "    }\n",
       "\n",
       "    .dataframe tbody tr th {\n",
       "        vertical-align: top;\n",
       "    }\n",
       "\n",
       "    .dataframe thead th {\n",
       "        text-align: right;\n",
       "    }\n",
       "</style>\n",
       "<table border=\"1\" class=\"dataframe\">\n",
       "  <thead>\n",
       "    <tr style=\"text-align: right;\">\n",
       "      <th></th>\n",
       "      <th>name</th>\n",
       "      <th>id</th>\n",
       "      <th>minutes</th>\n",
       "      <th>contributor_id</th>\n",
       "      <th>submitted</th>\n",
       "      <th>tags</th>\n",
       "      <th>nutrition</th>\n",
       "      <th>n_steps</th>\n",
       "      <th>steps</th>\n",
       "      <th>description</th>\n",
       "      <th>ingredients</th>\n",
       "      <th>n_ingredients</th>\n",
       "    </tr>\n",
       "  </thead>\n",
       "  <tbody>\n",
       "    <tr>\n",
       "      <th>574</th>\n",
       "      <td>whatever floats your boat  brownies</td>\n",
       "      <td>32204</td>\n",
       "      <td>35</td>\n",
       "      <td>37305</td>\n",
       "      <td>2002-06-25</td>\n",
       "      <td>['60-minutes-or-less', 'time-to-make', 'course...</td>\n",
       "      <td>[390.7, 30.0, 161.0, 7.0, 12.0, 50.0, 17.0]</td>\n",
       "      <td>14</td>\n",
       "      <td>['preheat oven to 350f', 'grease an 8 inch squ...</td>\n",
       "      <td>these are absolutely the chewiest, moistest, f...</td>\n",
       "      <td>['butter', 'unsweetened cocoa', 'sugar', 'eggs...</td>\n",
       "      <td>14</td>\n",
       "    </tr>\n",
       "    <tr>\n",
       "      <th>1455</th>\n",
       "      <td>4 minute spicy garlic shrimp</td>\n",
       "      <td>107997</td>\n",
       "      <td>17</td>\n",
       "      <td>52074</td>\n",
       "      <td>2005-01-10</td>\n",
       "      <td>['30-minutes-or-less', 'time-to-make', 'course...</td>\n",
       "      <td>[152.4, 21.0, 0.0, 8.0, 10.0, 9.0, 0.0]</td>\n",
       "      <td>6</td>\n",
       "      <td>['heat a large skillet over medium high heat',...</td>\n",
       "      <td>recipe is originally from the food network cou...</td>\n",
       "      <td>['shrimp', 'olive oil', 'garlic cloves', 'red ...</td>\n",
       "      <td>8</td>\n",
       "    </tr>\n",
       "    <tr>\n",
       "      <th>1598</th>\n",
       "      <td>5 minute vegan pancakes</td>\n",
       "      <td>132263</td>\n",
       "      <td>15</td>\n",
       "      <td>233464</td>\n",
       "      <td>2005-08-03</td>\n",
       "      <td>['15-minutes-or-less', 'time-to-make', 'course...</td>\n",
       "      <td>[444.8, 25.0, 45.0, 54.0, 20.0, 10.0, 21.0]</td>\n",
       "      <td>8</td>\n",
       "      <td>['set out all your ingredients', 'set a stove ...</td>\n",
       "      <td>a cinch to make and tastes wonderful, if you l...</td>\n",
       "      <td>['flour', 'sugar', 'baking powder', 'salt', 's...</td>\n",
       "      <td>6</td>\n",
       "    </tr>\n",
       "    <tr>\n",
       "      <th>2288</th>\n",
       "      <td>absolute best ever lasagna</td>\n",
       "      <td>28768</td>\n",
       "      <td>150</td>\n",
       "      <td>37779</td>\n",
       "      <td>2002-05-18</td>\n",
       "      <td>['weeknight', 'time-to-make', 'course', 'main-...</td>\n",
       "      <td>[517.1, 45.0, 15.0, 34.0, 73.0, 75.0, 8.0]</td>\n",
       "      <td>16</td>\n",
       "      <td>['brown ground meat , onion and garlic', 'add ...</td>\n",
       "      <td>my family's favorite. this is a very meaty las...</td>\n",
       "      <td>['lean ground beef', 'italian sausage', 'onion...</td>\n",
       "      <td>17</td>\n",
       "    </tr>\n",
       "    <tr>\n",
       "      <th>4599</th>\n",
       "      <td>amazing chicken marinade</td>\n",
       "      <td>29598</td>\n",
       "      <td>35</td>\n",
       "      <td>35193</td>\n",
       "      <td>2002-05-29</td>\n",
       "      <td>['60-minutes-or-less', 'time-to-make', 'course...</td>\n",
       "      <td>[337.6, 25.0, 72.0, 33.0, 51.0, 12.0, 6.0]</td>\n",
       "      <td>8</td>\n",
       "      <td>['in a large , non-reactive container , whisk ...</td>\n",
       "      <td>this recipe came from allrecipes (ruth crickme...</td>\n",
       "      <td>['cider vinegar', 'whole grain mustard', 'garl...</td>\n",
       "      <td>10</td>\n",
       "    </tr>\n",
       "  </tbody>\n",
       "</table>\n",
       "</div>"
      ],
      "text/plain": [
       "                                     name      id  minutes  contributor_id  \\\n",
       "574   whatever floats your boat  brownies   32204       35           37305   \n",
       "1455         4 minute spicy garlic shrimp  107997       17           52074   \n",
       "1598              5 minute vegan pancakes  132263       15          233464   \n",
       "2288           absolute best ever lasagna   28768      150           37779   \n",
       "4599             amazing chicken marinade   29598       35           35193   \n",
       "\n",
       "       submitted                                               tags  \\\n",
       "574   2002-06-25  ['60-minutes-or-less', 'time-to-make', 'course...   \n",
       "1455  2005-01-10  ['30-minutes-or-less', 'time-to-make', 'course...   \n",
       "1598  2005-08-03  ['15-minutes-or-less', 'time-to-make', 'course...   \n",
       "2288  2002-05-18  ['weeknight', 'time-to-make', 'course', 'main-...   \n",
       "4599  2002-05-29  ['60-minutes-or-less', 'time-to-make', 'course...   \n",
       "\n",
       "                                        nutrition  n_steps  \\\n",
       "574   [390.7, 30.0, 161.0, 7.0, 12.0, 50.0, 17.0]       14   \n",
       "1455      [152.4, 21.0, 0.0, 8.0, 10.0, 9.0, 0.0]        6   \n",
       "1598  [444.8, 25.0, 45.0, 54.0, 20.0, 10.0, 21.0]        8   \n",
       "2288   [517.1, 45.0, 15.0, 34.0, 73.0, 75.0, 8.0]       16   \n",
       "4599   [337.6, 25.0, 72.0, 33.0, 51.0, 12.0, 6.0]        8   \n",
       "\n",
       "                                                  steps  \\\n",
       "574   ['preheat oven to 350f', 'grease an 8 inch squ...   \n",
       "1455  ['heat a large skillet over medium high heat',...   \n",
       "1598  ['set out all your ingredients', 'set a stove ...   \n",
       "2288  ['brown ground meat , onion and garlic', 'add ...   \n",
       "4599  ['in a large , non-reactive container , whisk ...   \n",
       "\n",
       "                                            description  \\\n",
       "574   these are absolutely the chewiest, moistest, f...   \n",
       "1455  recipe is originally from the food network cou...   \n",
       "1598  a cinch to make and tastes wonderful, if you l...   \n",
       "2288  my family's favorite. this is a very meaty las...   \n",
       "4599  this recipe came from allrecipes (ruth crickme...   \n",
       "\n",
       "                                            ingredients  n_ingredients  \n",
       "574   ['butter', 'unsweetened cocoa', 'sugar', 'eggs...             14  \n",
       "1455  ['shrimp', 'olive oil', 'garlic cloves', 'red ...              8  \n",
       "1598  ['flour', 'sugar', 'baking powder', 'salt', 's...              6  \n",
       "2288  ['lean ground beef', 'italian sausage', 'onion...             17  \n",
       "4599  ['cider vinegar', 'whole grain mustard', 'garl...             10  "
      ]
     },
     "execution_count": 21,
     "metadata": {},
     "output_type": "execute_result"
    }
   ],
   "source": [
    "top200_recipe_df = recipes[recipes[\"id\"].isin(top_200_recipe_ids)]\n",
    "top200_recipe_df.head()"
   ]
  },
  {
   "cell_type": "code",
   "execution_count": 22,
   "metadata": {},
   "outputs": [
    {
     "data": {
      "text/plain": [
       "\"['15-minutes-or-less', 'time-to-make', 'course', 'preparation', 'occasion', 'for-1-or-2', 'pancakes-and-waffles', 'breakfast', 'easy', 'beginner-cook', 'vegan', 'vegetarian', 'dietary', 'low-cholesterol', 'low-saturated-fat', 'high-calcium', 'egg-free', 'free-of-something', 'high-in-something', 'low-in-something', 'brunch', 'number-of-servings']\""
      ]
     },
     "execution_count": 22,
     "metadata": {},
     "output_type": "execute_result"
    }
   ],
   "source": [
    "top200_recipe_df[\"tags\"].iloc[2]"
   ]
  },
  {
   "cell_type": "code",
   "execution_count": 23,
   "metadata": {},
   "outputs": [
    {
     "data": {
      "text/plain": [
       "200"
      ]
     },
     "execution_count": 23,
     "metadata": {},
     "output_type": "execute_result"
    }
   ],
   "source": [
    "len(top200_recipe_df)"
   ]
  },
  {
   "cell_type": "markdown",
   "metadata": {},
   "source": [
    "### Output for later use"
   ]
  },
  {
   "cell_type": "code",
   "execution_count": 24,
   "metadata": {},
   "outputs": [],
   "source": [
    "top200_recipe_df.to_csv(\"../data/recipe_200.csv\", index = False)"
   ]
  },
  {
   "cell_type": "code",
   "execution_count": 25,
   "metadata": {},
   "outputs": [
    {
     "data": {
      "text/html": [
       "<div>\n",
       "<style scoped>\n",
       "    .dataframe tbody tr th:only-of-type {\n",
       "        vertical-align: middle;\n",
       "    }\n",
       "\n",
       "    .dataframe tbody tr th {\n",
       "        vertical-align: top;\n",
       "    }\n",
       "\n",
       "    .dataframe thead th {\n",
       "        text-align: right;\n",
       "    }\n",
       "</style>\n",
       "<table border=\"1\" class=\"dataframe\">\n",
       "  <thead>\n",
       "    <tr style=\"text-align: right;\">\n",
       "      <th></th>\n",
       "      <th>user_id</th>\n",
       "      <th>recipe_id</th>\n",
       "      <th>date</th>\n",
       "      <th>rating</th>\n",
       "      <th>review</th>\n",
       "      <th>count</th>\n",
       "    </tr>\n",
       "  </thead>\n",
       "  <tbody>\n",
       "    <tr>\n",
       "      <th>6054</th>\n",
       "      <td>5060</td>\n",
       "      <td>30081</td>\n",
       "      <td>2005-03-18</td>\n",
       "      <td>2</td>\n",
       "      <td>Well I'm really sorry but we found these absol...</td>\n",
       "      <td>1</td>\n",
       "    </tr>\n",
       "    <tr>\n",
       "      <th>6056</th>\n",
       "      <td>39835</td>\n",
       "      <td>30081</td>\n",
       "      <td>2005-08-26</td>\n",
       "      <td>3</td>\n",
       "      <td>These were good for sandwich night, but I foun...</td>\n",
       "      <td>1</td>\n",
       "    </tr>\n",
       "    <tr>\n",
       "      <th>6064</th>\n",
       "      <td>158086</td>\n",
       "      <td>30081</td>\n",
       "      <td>2006-08-23</td>\n",
       "      <td>5</td>\n",
       "      <td>This was very easy and tasted wonderful...my b...</td>\n",
       "      <td>1</td>\n",
       "    </tr>\n",
       "    <tr>\n",
       "      <th>6069</th>\n",
       "      <td>53932</td>\n",
       "      <td>30081</td>\n",
       "      <td>2006-09-08</td>\n",
       "      <td>4</td>\n",
       "      <td>I used ground turkey and thought the spices we...</td>\n",
       "      <td>1</td>\n",
       "    </tr>\n",
       "    <tr>\n",
       "      <th>6137</th>\n",
       "      <td>176615</td>\n",
       "      <td>30081</td>\n",
       "      <td>2008-06-06</td>\n",
       "      <td>5</td>\n",
       "      <td>Great recipe! Superfast and easy, the whole fa...</td>\n",
       "      <td>1</td>\n",
       "    </tr>\n",
       "    <tr>\n",
       "      <th>...</th>\n",
       "      <td>...</td>\n",
       "      <td>...</td>\n",
       "      <td>...</td>\n",
       "      <td>...</td>\n",
       "      <td>...</td>\n",
       "      <td>...</td>\n",
       "    </tr>\n",
       "    <tr>\n",
       "      <th>1123448</th>\n",
       "      <td>133174</td>\n",
       "      <td>131018</td>\n",
       "      <td>2013-01-28</td>\n",
       "      <td>5</td>\n",
       "      <td>This is on my menu for game day!  I made this ...</td>\n",
       "      <td>1</td>\n",
       "    </tr>\n",
       "    <tr>\n",
       "      <th>1123461</th>\n",
       "      <td>39835</td>\n",
       "      <td>131018</td>\n",
       "      <td>2013-06-22</td>\n",
       "      <td>5</td>\n",
       "      <td>We loved this - used diet ginger ale but other...</td>\n",
       "      <td>1</td>\n",
       "    </tr>\n",
       "    <tr>\n",
       "      <th>1123494</th>\n",
       "      <td>400708</td>\n",
       "      <td>131018</td>\n",
       "      <td>2014-07-15</td>\n",
       "      <td>5</td>\n",
       "      <td>I&amp;#039;ll just add my 5 stars to this easy rec...</td>\n",
       "      <td>1</td>\n",
       "    </tr>\n",
       "    <tr>\n",
       "      <th>1129713</th>\n",
       "      <td>140132</td>\n",
       "      <td>43072</td>\n",
       "      <td>2008-06-25</td>\n",
       "      <td>4</td>\n",
       "      <td>These were really good.  I had some cottage ch...</td>\n",
       "      <td>1</td>\n",
       "    </tr>\n",
       "    <tr>\n",
       "      <th>1129762</th>\n",
       "      <td>1179225</td>\n",
       "      <td>43072</td>\n",
       "      <td>2010-01-15</td>\n",
       "      <td>5</td>\n",
       "      <td>These were a nice change from the usual pancak...</td>\n",
       "      <td>1</td>\n",
       "    </tr>\n",
       "  </tbody>\n",
       "</table>\n",
       "<p>1659 rows × 6 columns</p>\n",
       "</div>"
      ],
      "text/plain": [
       "         user_id  recipe_id        date  rating  \\\n",
       "6054        5060      30081  2005-03-18       2   \n",
       "6056       39835      30081  2005-08-26       3   \n",
       "6064      158086      30081  2006-08-23       5   \n",
       "6069       53932      30081  2006-09-08       4   \n",
       "6137      176615      30081  2008-06-06       5   \n",
       "...          ...        ...         ...     ...   \n",
       "1123448   133174     131018  2013-01-28       5   \n",
       "1123461    39835     131018  2013-06-22       5   \n",
       "1123494   400708     131018  2014-07-15       5   \n",
       "1129713   140132      43072  2008-06-25       4   \n",
       "1129762  1179225      43072  2010-01-15       5   \n",
       "\n",
       "                                                    review  count  \n",
       "6054     Well I'm really sorry but we found these absol...      1  \n",
       "6056     These were good for sandwich night, but I foun...      1  \n",
       "6064     This was very easy and tasted wonderful...my b...      1  \n",
       "6069     I used ground turkey and thought the spices we...      1  \n",
       "6137     Great recipe! Superfast and easy, the whole fa...      1  \n",
       "...                                                    ...    ...  \n",
       "1123448  This is on my menu for game day!  I made this ...      1  \n",
       "1123461  We loved this - used diet ginger ale but other...      1  \n",
       "1123494  I&#039;ll just add my 5 stars to this easy rec...      1  \n",
       "1129713  These were really good.  I had some cottage ch...      1  \n",
       "1129762  These were a nice change from the usual pancak...      1  \n",
       "\n",
       "[1659 rows x 6 columns]"
      ]
     },
     "execution_count": 25,
     "metadata": {},
     "output_type": "execute_result"
    }
   ],
   "source": [
    "final_interactions"
   ]
  },
  {
   "cell_type": "markdown",
   "metadata": {},
   "source": [
    "### Checking users"
   ]
  },
  {
   "cell_type": "code",
   "execution_count": 26,
   "metadata": {},
   "outputs": [],
   "source": [
    "user = pd.read_csv(\"../data/archive/PP_users.csv\")"
   ]
  },
  {
   "cell_type": "code",
   "execution_count": 27,
   "metadata": {},
   "outputs": [
    {
     "data": {
      "text/html": [
       "<div>\n",
       "<style scoped>\n",
       "    .dataframe tbody tr th:only-of-type {\n",
       "        vertical-align: middle;\n",
       "    }\n",
       "\n",
       "    .dataframe tbody tr th {\n",
       "        vertical-align: top;\n",
       "    }\n",
       "\n",
       "    .dataframe thead th {\n",
       "        text-align: right;\n",
       "    }\n",
       "</style>\n",
       "<table border=\"1\" class=\"dataframe\">\n",
       "  <thead>\n",
       "    <tr style=\"text-align: right;\">\n",
       "      <th></th>\n",
       "      <th>u</th>\n",
       "      <th>techniques</th>\n",
       "      <th>items</th>\n",
       "      <th>n_items</th>\n",
       "      <th>ratings</th>\n",
       "      <th>n_ratings</th>\n",
       "    </tr>\n",
       "  </thead>\n",
       "  <tbody>\n",
       "    <tr>\n",
       "      <th>0</th>\n",
       "      <td>0</td>\n",
       "      <td>[8, 0, 0, 5, 6, 0, 0, 1, 0, 9, 1, 0, 0, 0, 1, ...</td>\n",
       "      <td>[1118, 27680, 32541, 137353, 16428, 28815, 658...</td>\n",
       "      <td>31</td>\n",
       "      <td>[5.0, 5.0, 5.0, 5.0, 5.0, 5.0, 5.0, 4.0, 4.0, ...</td>\n",
       "      <td>31</td>\n",
       "    </tr>\n",
       "    <tr>\n",
       "      <th>1</th>\n",
       "      <td>1</td>\n",
       "      <td>[11, 0, 0, 2, 12, 0, 0, 0, 0, 14, 5, 0, 0, 0, ...</td>\n",
       "      <td>[122140, 77036, 156817, 76957, 68818, 155600, ...</td>\n",
       "      <td>39</td>\n",
       "      <td>[5.0, 5.0, 5.0, 5.0, 5.0, 5.0, 5.0, 5.0, 5.0, ...</td>\n",
       "      <td>39</td>\n",
       "    </tr>\n",
       "    <tr>\n",
       "      <th>2</th>\n",
       "      <td>2</td>\n",
       "      <td>[13, 0, 0, 7, 5, 0, 1, 2, 1, 11, 0, 1, 0, 0, 1...</td>\n",
       "      <td>[168054, 87218, 35731, 1, 20475, 9039, 124834,...</td>\n",
       "      <td>27</td>\n",
       "      <td>[3.0, 4.0, 4.0, 4.0, 4.0, 4.0, 4.0, 4.0, 5.0, ...</td>\n",
       "      <td>27</td>\n",
       "    </tr>\n",
       "    <tr>\n",
       "      <th>3</th>\n",
       "      <td>3</td>\n",
       "      <td>[498, 13, 4, 218, 376, 3, 2, 33, 16, 591, 10, ...</td>\n",
       "      <td>[163193, 156352, 102888, 19914, 169438, 55772,...</td>\n",
       "      <td>1513</td>\n",
       "      <td>[5.0, 5.0, 5.0, 5.0, 4.0, 4.0, 5.0, 5.0, 5.0, ...</td>\n",
       "      <td>1513</td>\n",
       "    </tr>\n",
       "    <tr>\n",
       "      <th>4</th>\n",
       "      <td>4</td>\n",
       "      <td>[161, 1, 1, 86, 93, 0, 0, 11, 2, 141, 0, 16, 0...</td>\n",
       "      <td>[72857, 38652, 160427, 55772, 119999, 141777, ...</td>\n",
       "      <td>376</td>\n",
       "      <td>[5.0, 5.0, 5.0, 5.0, 4.0, 4.0, 5.0, 4.0, 5.0, ...</td>\n",
       "      <td>376</td>\n",
       "    </tr>\n",
       "  </tbody>\n",
       "</table>\n",
       "</div>"
      ],
      "text/plain": [
       "   u                                         techniques  \\\n",
       "0  0  [8, 0, 0, 5, 6, 0, 0, 1, 0, 9, 1, 0, 0, 0, 1, ...   \n",
       "1  1  [11, 0, 0, 2, 12, 0, 0, 0, 0, 14, 5, 0, 0, 0, ...   \n",
       "2  2  [13, 0, 0, 7, 5, 0, 1, 2, 1, 11, 0, 1, 0, 0, 1...   \n",
       "3  3  [498, 13, 4, 218, 376, 3, 2, 33, 16, 591, 10, ...   \n",
       "4  4  [161, 1, 1, 86, 93, 0, 0, 11, 2, 141, 0, 16, 0...   \n",
       "\n",
       "                                               items  n_items  \\\n",
       "0  [1118, 27680, 32541, 137353, 16428, 28815, 658...       31   \n",
       "1  [122140, 77036, 156817, 76957, 68818, 155600, ...       39   \n",
       "2  [168054, 87218, 35731, 1, 20475, 9039, 124834,...       27   \n",
       "3  [163193, 156352, 102888, 19914, 169438, 55772,...     1513   \n",
       "4  [72857, 38652, 160427, 55772, 119999, 141777, ...      376   \n",
       "\n",
       "                                             ratings  n_ratings  \n",
       "0  [5.0, 5.0, 5.0, 5.0, 5.0, 5.0, 5.0, 4.0, 4.0, ...         31  \n",
       "1  [5.0, 5.0, 5.0, 5.0, 5.0, 5.0, 5.0, 5.0, 5.0, ...         39  \n",
       "2  [3.0, 4.0, 4.0, 4.0, 4.0, 4.0, 4.0, 4.0, 5.0, ...         27  \n",
       "3  [5.0, 5.0, 5.0, 5.0, 4.0, 4.0, 5.0, 5.0, 5.0, ...       1513  \n",
       "4  [5.0, 5.0, 5.0, 5.0, 4.0, 4.0, 5.0, 4.0, 5.0, ...        376  "
      ]
     },
     "execution_count": 27,
     "metadata": {},
     "output_type": "execute_result"
    }
   ],
   "source": [
    "user.head()"
   ]
  },
  {
   "cell_type": "code",
   "execution_count": null,
   "metadata": {},
   "outputs": [],
   "source": []
  }
 ],
 "metadata": {
  "kernelspec": {
   "display_name": "base",
   "language": "python",
   "name": "python3"
  },
  "language_info": {
   "codemirror_mode": {
    "name": "ipython",
    "version": 3
   },
   "file_extension": ".py",
   "mimetype": "text/x-python",
   "name": "python",
   "nbconvert_exporter": "python",
   "pygments_lexer": "ipython3",
   "version": "3.12.4"
  }
 },
 "nbformat": 4,
 "nbformat_minor": 2
}
